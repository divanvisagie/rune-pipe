{
 "cells": [
  {
   "attachments": {},
   "cell_type": "markdown",
   "metadata": {},
   "source": [
    "# Svingerud \n",
    "\n",
    "The [Svingerud](https://www.historiskmuseum.no/english/exhibitions/worlds-oldest-rune-stone/) stone is a recent find that is one of the earliest runestones ever to be found dating between 1 and 250 CE. The stone was found in a grave alongside a a second stone."
   ]
  },
  {
   "cell_type": "code",
   "execution_count": 1,
   "metadata": {},
   "outputs": [],
   "source": [
    "\"\"\"read data from csv into pandas dataframe\"\"\"\n",
    "import pandas as pd\n",
    "\n",
    "df = pd.read_csv('../data/processed/merged.csv', index_col='Code')\n",
    "\n",
    "# Settings to show full text of dataframes when printing\n",
    "pd.set_option('display.max_columns', None)  # or 1000\n",
    "pd.set_option('display.max_rows', None)  # or 1000\n",
    "pd.set_option('display.max_colwidth', None) "
   ]
  },
  {
   "cell_type": "code",
   "execution_count": 2,
   "metadata": {},
   "outputs": [],
   "source": [
    "import spacy\n",
    "import os\n",
    "from functools import partial\n",
    "\n",
    "import sys\n",
    "\n",
    "sys.path.append('..') # move to root folder to import module from parent\n",
    "from rundata_utils import extract_token_instances_from_text\n"
   ]
  },
  {
   "attachments": {},
   "cell_type": "markdown",
   "metadata": {},
   "source": [
    "## Idiberug"
   ]
  },
  {
   "cell_type": "code",
   "execution_count": 5,
   "metadata": {},
   "outputs": [
    {
     "data": {
      "text/html": [
       "<div>\n",
       "<style scoped>\n",
       "    .dataframe tbody tr th:only-of-type {\n",
       "        vertical-align: middle;\n",
       "    }\n",
       "\n",
       "    .dataframe tbody tr th {\n",
       "        vertical-align: top;\n",
       "    }\n",
       "\n",
       "    .dataframe thead th {\n",
       "        text-align: right;\n",
       "    }\n",
       "</style>\n",
       "<table border=\"1\" class=\"dataframe\">\n",
       "  <thead>\n",
       "    <tr style=\"text-align: right;\">\n",
       "      <th></th>\n",
       "      <th>Transliteration</th>\n",
       "      <th>English</th>\n",
       "      <th>Location</th>\n",
       "    </tr>\n",
       "    <tr>\n",
       "      <th>Code</th>\n",
       "      <th></th>\n",
       "      <th></th>\n",
       "      <th></th>\n",
       "    </tr>\n",
       "  </thead>\n",
       "  <tbody>\n",
       "  </tbody>\n",
       "</table>\n",
       "</div>"
      ],
      "text/plain": [
       "Empty DataFrame\n",
       "Columns: [Transliteration, English, Location]\n",
       "Index: []"
      ]
     },
     "execution_count": 5,
     "metadata": {},
     "output_type": "execute_result"
    }
   ],
   "source": [
    "extract_idibera = partial(extract_token_instances_from_text, 'futh')\n",
    "filtered_df = df[df['Transliteration'].apply(extract_idibera).astype(bool)] #only want to see the tokens that are do\n",
    "filtered_df"
   ]
  },
  {
   "attachments": {},
   "cell_type": "markdown",
   "metadata": {},
   "source": [
    "## The second stone"
   ]
  },
  {
   "cell_type": "code",
   "execution_count": 3,
   "metadata": {},
   "outputs": [
    {
     "data": {
      "text/html": [
       "<div>\n",
       "<style scoped>\n",
       "    .dataframe tbody tr th:only-of-type {\n",
       "        vertical-align: middle;\n",
       "    }\n",
       "\n",
       "    .dataframe tbody tr th {\n",
       "        vertical-align: top;\n",
       "    }\n",
       "\n",
       "    .dataframe thead th {\n",
       "        text-align: right;\n",
       "    }\n",
       "</style>\n",
       "<table border=\"1\" class=\"dataframe\">\n",
       "  <thead>\n",
       "    <tr style=\"text-align: right;\">\n",
       "      <th></th>\n",
       "      <th>Transliteration</th>\n",
       "      <th>English</th>\n",
       "      <th>Location</th>\n",
       "    </tr>\n",
       "    <tr>\n",
       "      <th>Code</th>\n",
       "      <th></th>\n",
       "      <th></th>\n",
       "      <th></th>\n",
       "    </tr>\n",
       "  </thead>\n",
       "  <tbody>\n",
       "    <tr>\n",
       "      <th>Vg 81 M</th>\n",
       "      <td>bendikt romfarari let gera hualf þenna ifir magnus koþan dræg ------s... ok do han om nat firir þeira postla messoaftan simonis æð iute in þat er ret hu... ...</td>\n",
       "      <td>Bendikt Rome-traveller had this vault made over Magnus, a good valiant man ... And he died in the night before the eve of the mass of the apostles Simonis et Juda. And that is right for everyone ...</td>\n",
       "      <td>Broddetorps gamla kyrkogård</td>\n",
       "    </tr>\n",
       "    <tr>\n",
       "      <th>Vg 91 M</th>\n",
       "      <td>-eidir au barne do kona andræsa præst</td>\n",
       "      <td>Heiðr. Of childbirth died the wife of Andrés the priest.</td>\n",
       "      <td>Högstena kyrkogård</td>\n",
       "    </tr>\n",
       "    <tr>\n",
       "      <th>G 124 M</th>\n",
       "      <td>bedin fyri iakobs sial nikkarfua han do fæm daha fyri sante lafranz dag ta uar f sundahr ok m primst-fu-r i fimtand- rat...</td>\n",
       "      <td>Pray for Jakobr of Nikkarfr/Nickarve's soul. He died five days before Saint Lafranz' day, when F was the Sunday[-stave] and M the prime-stave in the fifteenth row.</td>\n",
       "      <td>Vänge kyrka</td>\n",
       "    </tr>\n",
       "    <tr>\n",
       "      <th>G 306 M</th>\n",
       "      <td>ganuiþr ok botuiþr kaslla ok þair letu haga an stain ok yfr sin faþur butair aitin guþ alssualtuhr hafi þina sial ok þa uar l o... pirimstefr ok fir sunutahr ok en ha do</td>\n",
       "      <td>Gagnviðr and Bótviðr in Kassla/Kassle, and they had a stone cut over their father, he was called Bótgeirr. May all-powerful God have (= take) their souls. And then L and(?) (was) the prime-stave and Fir (= F-rune?) the Sunday(-stave) when he died.</td>\n",
       "      <td>Hangvars kyrka</td>\n",
       "    </tr>\n",
       "    <tr>\n",
       "      <th>G 308 M</th>\n",
       "      <td>sihrafr i flinauik han lit mik gera yfir sin ...þur iakaup guþ naþi hans sial þa uar ur primstafr ok þos sunutahr en han do</td>\n",
       "      <td>Sigreifr in Flenavík/Flenvike, he had me made over his father Jakobr. May God be gracious to his soul. Then Aurochs was the prime-stave and Giant the Sunday[-stave] when he died.</td>\n",
       "      <td>Hangvars kyrka</td>\n",
       "    </tr>\n",
       "    <tr>\n",
       "      <th>G 319 M</th>\n",
       "      <td>sihtris aruarr litu giera staen yfir auþu-l- broþur sin a finlandi do aglia ...</td>\n",
       "      <td>Sigtryggr's(?) heirs had the stone made over Auðvaldr(?), their brother, who died in Finland ... ...</td>\n",
       "      <td>Rute kyrka</td>\n",
       "    </tr>\n",
       "  </tbody>\n",
       "</table>\n",
       "</div>"
      ],
      "text/plain": [
       "                                                                                                                                                                    Transliteration  \\\n",
       "Code                                                                                                                                                                                  \n",
       "Vg 81 M             bendikt romfarari let gera hualf þenna ifir magnus koþan dræg ------s... ok do han om nat firir þeira postla messoaftan simonis æð iute in þat er ret hu... ...   \n",
       "Vg 91 M                                                                                                                                       -eidir au barne do kona andræsa præst   \n",
       "G 124 M                                                 bedin fyri iakobs sial nikkarfua han do fæm daha fyri sante lafranz dag ta uar f sundahr ok m primst-fu-r i fimtand- rat...   \n",
       "G 306 M   ganuiþr ok botuiþr kaslla ok þair letu haga an stain ok yfr sin faþur butair aitin guþ alssualtuhr hafi þina sial ok þa uar l o... pirimstefr ok fir sunutahr ok en ha do   \n",
       "G 308 M                                                 sihrafr i flinauik han lit mik gera yfir sin ...þur iakaup guþ naþi hans sial þa uar ur primstafr ok þos sunutahr en han do   \n",
       "G 319 M                                                                                             sihtris aruarr litu giera staen yfir auþu-l- broþur sin a finlandi do aglia ...   \n",
       "\n",
       "                                                                                                                                                                                                                                                          English  \\\n",
       "Code                                                                                                                                                                                                                                                                \n",
       "Vg 81 M                                                    Bendikt Rome-traveller had this vault made over Magnus, a good valiant man ... And he died in the night before the eve of the mass of the apostles Simonis et Juda. And that is right for everyone ...   \n",
       "Vg 91 M                                                                                                                                                                                                  Heiðr. Of childbirth died the wife of Andrés the priest.   \n",
       "G 124 M                                                                                       Pray for Jakobr of Nikkarfr/Nickarve's soul. He died five days before Saint Lafranz' day, when F was the Sunday[-stave] and M the prime-stave in the fifteenth row.   \n",
       "G 306 M   Gagnviðr and Bótviðr in Kassla/Kassle, and they had a stone cut over their father, he was called Bótgeirr. May all-powerful God have (= take) their souls. And then L and(?) (was) the prime-stave and Fir (= F-rune?) the Sunday(-stave) when he died.   \n",
       "G 308 M                                                                        Sigreifr in Flenavík/Flenvike, he had me made over his father Jakobr. May God be gracious to his soul. Then Aurochs was the prime-stave and Giant the Sunday[-stave] when he died.   \n",
       "G 319 M                                                                                                                                                      Sigtryggr's(?) heirs had the stone made over Auðvaldr(?), their brother, who died in Finland ... ...   \n",
       "\n",
       "                             Location  \n",
       "Code                                   \n",
       "Vg 81 M   Broddetorps gamla kyrkogård  \n",
       "Vg 91 M            Högstena kyrkogård  \n",
       "G 124 M                   Vänge kyrka  \n",
       "G 306 M                Hangvars kyrka  \n",
       "G 308 M                Hangvars kyrka  \n",
       "G 319 M                    Rute kyrka  "
      ]
     },
     "execution_count": 3,
     "metadata": {},
     "output_type": "execute_result"
    }
   ],
   "source": [
    "extract_do_tokens = partial(extract_token_instances_from_text,'do')\n",
    "\n",
    "filtered_df = df[df['Transliteration'].apply(extract_do_tokens).astype(bool)] #only want to see the tokens that are do\n",
    "filtered_df"
   ]
  }
 ],
 "metadata": {
  "kernelspec": {
   "display_name": "env",
   "language": "python",
   "name": "python3"
  },
  "language_info": {
   "codemirror_mode": {
    "name": "ipython",
    "version": 3
   },
   "file_extension": ".py",
   "mimetype": "text/x-python",
   "name": "python",
   "nbconvert_exporter": "python",
   "pygments_lexer": "ipython3",
   "version": "3.10.1"
  },
  "orig_nbformat": 4,
  "vscode": {
   "interpreter": {
    "hash": "d68d409bd4bf192cf889f4f317bfda7fe6ddc398b2772eea306f489bbb3b2620"
   }
  }
 },
 "nbformat": 4,
 "nbformat_minor": 2
}
