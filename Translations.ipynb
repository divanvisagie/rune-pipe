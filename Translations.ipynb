{
 "cells": [
  {
   "cell_type": "markdown",
   "metadata": {},
   "source": [
    "Fetch translation requirements"
   ]
  },
  {
   "cell_type": "code",
   "execution_count": 19,
   "metadata": {},
   "outputs": [],
   "source": [
    "from rundata_utils import get_dataframe_from_excel\n",
    "import pandas as pd\n",
    "\n",
    "df = get_dataframe_from_excel()\n",
    "\n",
    "def get_translations_requirements_for_column(column_name):\n",
    "    translations = df[column_name].unique().tolist()\n",
    "    translations = [t for t in translations if pd.notna(t)]\n",
    "    return translations\n"
   ]
  },
  {
   "cell_type": "code",
   "execution_count": 22,
   "metadata": {},
   "outputs": [
    {
     "data": {
      "text/plain": [
       "['sten', 'övrigt', 'puts', 'metall', 'ben/horn', 'trä', 'okänd']"
      ]
     },
     "execution_count": 22,
     "metadata": {},
     "output_type": "execute_result"
    }
   ],
   "source": [
    "get_translations_requirements_for_column('Materialtyp')\n"
   ]
  },
  {
   "cell_type": "code",
   "execution_count": 21,
   "metadata": {},
   "outputs": [
    {
     "data": {
      "text/plain": [
       "['RAK',\n",
       " 'Pr3',\n",
       " 'Pr3 - Pr4?',\n",
       " 'Pr4',\n",
       " 'Pr2 - Pr3?',\n",
       " '?',\n",
       " 'Pr2',\n",
       " 'Pr3?',\n",
       " 'Pr1 - Pr2',\n",
       " 'Pr2?',\n",
       " 'Pr2 - Pr3',\n",
       " 'RAK?',\n",
       " 'Pr3 - Pr4',\n",
       " 'Pr4?',\n",
       " 'Pr1 - Pr2? [Gräslund muntligt]',\n",
       " 'RAK? [Gräslund muntligt]',\n",
       " 'Pr4? [Gräslund muntligt]',\n",
       " 'Pr3 [Gräslund muntligt]',\n",
       " 'Fp',\n",
       " 'Pr1',\n",
       " 'Pr1 - Pr2?',\n",
       " '? (Fp)',\n",
       " 'KB? (Pr2 - Pr3)',\n",
       " 'Fp?',\n",
       " 'KB',\n",
       " 'FP',\n",
       " 'Pr1?',\n",
       " 'Fp (RAK)',\n",
       " 'RAK [Gräslund muntligt]',\n",
       " 'Pr3 - Pr4 [Gräslund muntligt]',\n",
       " 'Fp, Pr2 - Pr3',\n",
       " 'Fp, Pr1?',\n",
       " 'Pr2? [Klassificerad av redaktionen]',\n",
       " 'Pr1 - Pr2?; Fp [Källström 2007a:361]',\n",
       " 'KB?',\n",
       " 'Pr1? [Källström 2007a:362]',\n",
       " 'Fp, Pr2',\n",
       " 'Pr5',\n",
       " 'Pr2 [Gräslund muntligt]',\n",
       " 'Pr3? [Gräslund muntligt]',\n",
       " 'Fp [Gräslund muntligt]',\n",
       " 'RAK??',\n",
       " 'Pr4 [Gräslund muntligt]',\n",
       " 'Pr1 [En av, Ljung muntligt]',\n",
       " 'Pr1 [Ljung muntligt]',\n",
       " 'Fp - RAK?',\n",
       " 'Pr2 - Pr3 [Gräslund muntligt]',\n",
       " 'RAK - Pr1?',\n",
       " 'Fp, Pr1',\n",
       " 'Pr3??',\n",
       " 'Pr4 - Pr5?',\n",
       " 'sid a: Pr2, sid b: Pr2 - Pr3',\n",
       " 'Pr2 - Pr3? [Gräslund muntligt]',\n",
       " 'Pr3(?)',\n",
       " 'Pr4??',\n",
       " 'Fp??',\n",
       " 'Pr3 - Pr4??',\n",
       " 'Pr5?',\n",
       " 'KB, Pr2',\n",
       " 'Pr4 - Pr5',\n",
       " 'Pr1??',\n",
       " 'Pr5? [Källström i SRI 10 Dig. suppl.]',\n",
       " 'Pr4 [Källström 2007a:407]',\n",
       " 'Pr2 [NOR 2004:27]',\n",
       " 'Pr3 [Fv 2009]',\n",
       " 'Pr5(?) [Fv 2012]',\n",
       " 'Pr3 - Pr4? [Gräslund muntligt]',\n",
       " 'Fp, Pr1 - Pr2']"
      ]
     },
     "execution_count": 21,
     "metadata": {},
     "output_type": "execute_result"
    }
   ],
   "source": [
    "get_translations_requirements_for_column('Stilgruppering')"
   ]
  }
 ],
 "metadata": {
  "kernelspec": {
   "display_name": "env",
   "language": "python",
   "name": "python3"
  },
  "language_info": {
   "codemirror_mode": {
    "name": "ipython",
    "version": 3
   },
   "file_extension": ".py",
   "mimetype": "text/x-python",
   "name": "python",
   "nbconvert_exporter": "python",
   "pygments_lexer": "ipython3",
   "version": "3.10.1"
  },
  "orig_nbformat": 4,
  "vscode": {
   "interpreter": {
    "hash": "d68d409bd4bf192cf889f4f317bfda7fe6ddc398b2772eea306f489bbb3b2620"
   }
  }
 },
 "nbformat": 4,
 "nbformat_minor": 2
}
