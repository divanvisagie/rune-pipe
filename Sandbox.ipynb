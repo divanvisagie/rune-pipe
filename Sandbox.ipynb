{
 "cells": [
  {
   "attachments": {},
   "cell_type": "markdown",
   "metadata": {},
   "source": [
    "# Sandbox\n",
    "\n",
    "Simple playground for testing different parts of the library"
   ]
  },
  {
   "cell_type": "code",
   "execution_count": 7,
   "metadata": {},
   "outputs": [],
   "source": [
    "import pandas as pd\n",
    "from rundata_utils import get_dataframe_from_excel, text_contains\n",
    "\n",
    "\n",
    "\n",
    "# Settings to show full text of dataframes when printing\n",
    "pd.set_option('display.max_columns', None)  # or 1000\n",
    "pd.set_option('display.max_rows', None)  # or 1000\n",
    "pd.set_option('display.max_colwidth', None) "
   ]
  },
  {
   "cell_type": "code",
   "execution_count": 9,
   "metadata": {},
   "outputs": [
    {
     "data": {
      "text/html": [
       "<div>\n",
       "<style scoped>\n",
       "    .dataframe tbody tr th:only-of-type {\n",
       "        vertical-align: middle;\n",
       "    }\n",
       "\n",
       "    .dataframe tbody tr th {\n",
       "        vertical-align: top;\n",
       "    }\n",
       "\n",
       "    .dataframe thead th {\n",
       "        text-align: right;\n",
       "    }\n",
       "</style>\n",
       "<table border=\"1\" class=\"dataframe\">\n",
       "  <thead>\n",
       "    <tr style=\"text-align: right;\">\n",
       "      <th></th>\n",
       "      <th>Transliteration</th>\n",
       "      <th>English</th>\n",
       "      <th>Location</th>\n",
       "      <th>Style Grouping</th>\n",
       "      <th>Dating</th>\n",
       "    </tr>\n",
       "    <tr>\n",
       "      <th>Code</th>\n",
       "      <th></th>\n",
       "      <th></th>\n",
       "      <th></th>\n",
       "      <th></th>\n",
       "      <th></th>\n",
       "    </tr>\n",
       "  </thead>\n",
       "  <tbody>\n",
       "    <tr>\n",
       "      <th>DR 190</th>\n",
       "      <td>rHuulfR sati stain nuRa kuþi aft kuþuMut bruþursunu sin truknaþu --... ouaiR faþi</td>\n",
       "      <td>Hróðulfr, priest of the Nes-dwellers, placed the stone in memory of Guðmundr, his nephew. They drowned ... Ávarr coloured.</td>\n",
       "      <td>Helnæs</td>\n",
       "      <td>RAK</td>\n",
       "      <td>V Helnæs-Gørlev, ca 750-900</td>\n",
       "    </tr>\n",
       "  </tbody>\n",
       "</table>\n",
       "</div>"
      ],
      "text/plain": [
       "                                                                            Transliteration  \\\n",
       "Code                                                                                          \n",
       "DR 190    rHuulfR sati stain nuRa kuþi aft kuþuMut bruþursunu sin truknaþu --... ouaiR faþi   \n",
       "\n",
       "                                                                                                                             English  \\\n",
       "Code                                                                                                                                   \n",
       "DR 190    Hróðulfr, priest of the Nes-dwellers, placed the stone in memory of Guðmundr, his nephew. They drowned ... Ávarr coloured.   \n",
       "\n",
       "         Location Style Grouping                       Dating  \n",
       "Code                                                           \n",
       "DR 190     Helnæs            RAK  V Helnæs-Gørlev, ca 750-900  "
      ]
     },
     "execution_count": 9,
     "metadata": {},
     "output_type": "execute_result"
    }
   ],
   "source": [
    "rundata_df = pd.read_csv('data/processed/merged.csv', index_col='Code')\n",
    "\n",
    "\n",
    "from functools import partial\n",
    "from rundata_utils import FilteredFrameBuilder, text_contains\n",
    "\n",
    "\n",
    "contains_rak = partial(text_contains, 'RAK')\n",
    "from_date = partial(text_contains, '750')\n",
    "\n",
    "dff = (\n",
    "    FilteredFrameBuilder(rundata_df)\n",
    "    .filter('Style Grouping', contains_rak)\n",
    "    .filter('Dating', from_date)\n",
    "    .build()\n",
    ")\n",
    "dff\n"
   ]
  }
 ],
 "metadata": {
  "kernelspec": {
   "display_name": "env",
   "language": "python",
   "name": "python3"
  },
  "language_info": {
   "codemirror_mode": {
    "name": "ipython",
    "version": 3
   },
   "file_extension": ".py",
   "mimetype": "text/x-python",
   "name": "python",
   "nbconvert_exporter": "python",
   "pygments_lexer": "ipython3",
   "version": "3.10.1"
  },
  "orig_nbformat": 4,
  "vscode": {
   "interpreter": {
    "hash": "d68d409bd4bf192cf889f4f317bfda7fe6ddc398b2772eea306f489bbb3b2620"
   }
  }
 },
 "nbformat": 4,
 "nbformat_minor": 2
}
