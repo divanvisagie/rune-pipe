{
 "cells": [
  {
   "attachments": {},
   "cell_type": "markdown",
   "metadata": {},
   "source": [
    "# Sandbox\n",
    "\n",
    "Simple playground for testing different parts of the library"
   ]
  },
  {
   "cell_type": "code",
   "execution_count": 11,
   "metadata": {},
   "outputs": [],
   "source": [
    "import pandas as pd\n",
    "from rundata_utils import get_dataframe_from_excel, text_contains\n",
    "\n",
    "\n",
    "# Settings to show full text of dataframes when printing\n",
    "pd.set_option('display.max_columns', None)  # or 1000\n",
    "pd.set_option('display.max_colwidth', None) "
   ]
  },
  {
   "cell_type": "code",
   "execution_count": 48,
   "metadata": {},
   "outputs": [],
   "source": [
    "rundata_df = pd.read_csv('data/processed/merged.csv')\n",
    "\n",
    "\n",
    "from functools import partial\n",
    "from rundata_utils import FilteredFrameBuilder, text_contains\n",
    "\n",
    "\n",
    "period = partial(text_contains, 'M ')\n",
    "has_code = partial(text_contains, 'Öl 53')\n",
    "material = partial(text_contains, 'stone')\n",
    "\n",
    "df = (\n",
    "    FilteredFrameBuilder(rundata_df)\n",
    "    .filter('Dating', period)\n",
    "    # .filter('Code', has_code)\n",
    "    .filter('Material Type', material)\n",
    "    .build()\n",
    ")\n"
   ]
  },
  {
   "cell_type": "code",
   "execution_count": 49,
   "metadata": {},
   "outputs": [
    {
     "data": {
      "text/html": [
       "<div>\n",
       "<style scoped>\n",
       "    .dataframe tbody tr th:only-of-type {\n",
       "        vertical-align: middle;\n",
       "    }\n",
       "\n",
       "    .dataframe tbody tr th {\n",
       "        vertical-align: top;\n",
       "    }\n",
       "\n",
       "    .dataframe thead th {\n",
       "        text-align: right;\n",
       "    }\n",
       "</style>\n",
       "<table border=\"1\" class=\"dataframe\">\n",
       "  <thead>\n",
       "    <tr style=\"text-align: right;\">\n",
       "      <th></th>\n",
       "      <th>Code</th>\n",
       "      <th>Transliteration</th>\n",
       "      <th>English</th>\n",
       "      <th>Location</th>\n",
       "      <th>Style Grouping</th>\n",
       "      <th>Dating</th>\n",
       "      <th>Material Type</th>\n",
       "    </tr>\n",
       "  </thead>\n",
       "  <tbody>\n",
       "    <tr>\n",
       "      <th>48</th>\n",
       "      <td>Öl 53 M</td>\n",
       "      <td>þer liker æln siata totiR</td>\n",
       "      <td>There lies Elín, Sétti's daughter.</td>\n",
       "      <td>Alböke kyrkogård</td>\n",
       "      <td>NaN</td>\n",
       "      <td>M ca 1150 eller senare</td>\n",
       "      <td>stone</td>\n",
       "    </tr>\n",
       "  </tbody>\n",
       "</table>\n",
       "</div>"
      ],
      "text/plain": [
       "        Code            Transliteration                             English  \\\n",
       "48  Öl 53 M   þer liker æln siata totiR  There lies Elín, Sétti's daughter.   \n",
       "\n",
       "            Location Style Grouping                  Dating Material Type  \n",
       "48  Alböke kyrkogård            NaN  M ca 1150 eller senare         stone  "
      ]
     },
     "execution_count": 49,
     "metadata": {},
     "output_type": "execute_result"
    }
   ],
   "source": [
    "import rundata as rd\n",
    "\n",
    "#rd.rune_map.viking_map\n",
    "\n",
    "df\n",
    "\n",
    "# df['Transliteration'].apply(lambda x: x.replace(' ', ''))"
   ]
  }
 ],
 "metadata": {
  "kernelspec": {
   "display_name": "env",
   "language": "python",
   "name": "python3"
  },
  "language_info": {
   "codemirror_mode": {
    "name": "ipython",
    "version": 3
   },
   "file_extension": ".py",
   "mimetype": "text/x-python",
   "name": "python",
   "nbconvert_exporter": "python",
   "pygments_lexer": "ipython3",
   "version": "3.10.1"
  },
  "orig_nbformat": 4,
  "vscode": {
   "interpreter": {
    "hash": "d68d409bd4bf192cf889f4f317bfda7fe6ddc398b2772eea306f489bbb3b2620"
   }
  }
 },
 "nbformat": 4,
 "nbformat_minor": 2
}
