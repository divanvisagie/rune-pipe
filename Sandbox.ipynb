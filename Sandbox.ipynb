{
 "cells": [
  {
   "attachments": {},
   "cell_type": "markdown",
   "metadata": {},
   "source": [
    "# Sandbox\n",
    "\n",
    "Simple playground for testing different parts of the library"
   ]
  },
  {
   "cell_type": "code",
   "execution_count": 2,
   "metadata": {},
   "outputs": [],
   "source": [
    "import pandas as pd\n",
    "from rundata_utils import get_dataframe_from_excel, text_contains\n",
    "\n",
    "\n",
    "# Settings to show full text of dataframes when printing\n",
    "pd.set_option('display.max_columns', None)  # or 1000\n",
    "pd.set_option('display.max_rows', None)  # or 1000\n",
    "pd.set_option('display.max_colwidth', None) "
   ]
  },
  {
   "cell_type": "code",
   "execution_count": 3,
   "metadata": {},
   "outputs": [
    {
     "data": {
      "text/plain": [
       "30"
      ]
     },
     "execution_count": 3,
     "metadata": {},
     "output_type": "execute_result"
    }
   ],
   "source": [
    "rundata_df = pd.read_csv('data/processed/merged.csv', index_col='Code')\n",
    "\n",
    "\n",
    "from functools import partial\n",
    "from rundata_utils import FilteredFrameBuilder, text_contains\n",
    "\n",
    "\n",
    "contains_rak = partial(text_contains, 'england')\n",
    "from_date = partial(text_contains, '750')\n",
    "\n",
    "dff = (\n",
    "    FilteredFrameBuilder(rundata_df)\n",
    "    .filter('English', contains_rak)\n",
    "    # .filter('Dating', from_date)\n",
    "    .build()\n",
    ")\n",
    "dff\n"
   ]
  }
 ],
 "metadata": {
  "kernelspec": {
   "display_name": "env",
   "language": "python",
   "name": "python3"
  },
  "language_info": {
   "codemirror_mode": {
    "name": "ipython",
    "version": 3
   },
   "file_extension": ".py",
   "mimetype": "text/x-python",
   "name": "python",
   "nbconvert_exporter": "python",
   "pygments_lexer": "ipython3",
   "version": "3.10.1"
  },
  "orig_nbformat": 4,
  "vscode": {
   "interpreter": {
    "hash": "d68d409bd4bf192cf889f4f317bfda7fe6ddc398b2772eea306f489bbb3b2620"
   }
  }
 },
 "nbformat": 4,
 "nbformat_minor": 2
}
